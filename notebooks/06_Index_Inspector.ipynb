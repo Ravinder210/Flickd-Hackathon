{
 "cells": [
  {
   "cell_type": "code",
   "execution_count": 1,
   "id": "f8f9b6ff-57ad-4539-af9b-6fe81e9fd526",
   "metadata": {},
   "outputs": [
    {
     "name": "stdout",
     "output_type": "stream",
     "text": [
      "Loaded product ID map with 7922 entries.\n"
     ]
    }
   ],
   "source": [
    "import json\n",
    "import os\n",
    "\n",
    "MODELS_DIR = '../models/'\n",
    "\n",
    "# Use the 'large' map we created with the better model\n",
    "ID_MAP_PATH = os.path.join(MODELS_DIR, \"product_id_map_large.json\") \n",
    "\n",
    "with open(ID_MAP_PATH, 'r') as f:\n",
    "    product_id_map = json.load(f)\n",
    "\n",
    "print(f\"Loaded product ID map with {len(product_id_map)} entries.\")\n"
   ]
  },
  {
   "cell_type": "code",
   "execution_count": 2,
   "id": "e837c1f7-6d67-4f01-9225-9e72934dd918",
   "metadata": {},
   "outputs": [],
   "source": [
    "def find_faiss_indices_for_product(target_product_id, id_map):\n",
    "    \"\"\"\n",
    "    Searches the ID map and returns all FAISS index positions for a given product ID.\n",
    "    \"\"\"\n",
    "    found_indices = []\n",
    "    # We use enumerate to get both the index (i) and the value (pid)\n",
    "    for i, pid in enumerate(id_map):\n",
    "        # We must compare them as the same type (e.g., both as integers)\n",
    "        if int(pid) == int(target_product_id):\n",
    "            found_indices.append(i)\n",
    "    \n",
    "    return found_indices\n"
   ]
  },
  {
   "cell_type": "code",
   "execution_count": 3,
   "id": "fda041e5-68f0-460c-9328-83ff868037e7",
   "metadata": {},
   "outputs": [
    {
     "name": "stdout",
     "output_type": "stream",
     "text": [
      "✅ Found Product ID '15339' at the following FAISS index positions:\n",
      "[1651, 1652, 1653, 1654, 1655, 1656, 1657, 1658, 1659, 1660]\n",
      "\n",
      "This means this product has 10 different images/angles in our search index.\n"
     ]
    }
   ],
   "source": [
    "product_id_to_find = 15339 # Example Product ID\n",
    "\n",
    "# ---\n",
    "\n",
    "faiss_indices = find_faiss_indices_for_product(product_id_to_find, product_id_map)\n",
    "\n",
    "if faiss_indices:\n",
    "    print(f\"✅ Found Product ID '{product_id_to_find}' at the following FAISS index positions:\")\n",
    "    print(faiss_indices)\n",
    "    print(f\"\\nThis means this product has {len(faiss_indices)} different images/angles in our search index.\")\n",
    "else:\n",
    "    print(f\"❌ Product ID '{product_id_to_find}' was not found in our FAISS index.\")\n",
    "    print(\"This could mean it had no images or YOLO failed to detect an item in any of its images.\")"
   ]
  },
  {
   "cell_type": "code",
   "execution_count": null,
   "id": "11f2242f-4f29-4f76-a5cb-63d50bc3cab6",
   "metadata": {},
   "outputs": [],
   "source": []
  }
 ],
 "metadata": {
  "kernelspec": {
   "display_name": "flickd-hackathon",
   "language": "python",
   "name": "flickd-hackathon"
  },
  "language_info": {
   "codemirror_mode": {
    "name": "ipython",
    "version": 3
   },
   "file_extension": ".py",
   "mimetype": "text/x-python",
   "name": "python",
   "nbconvert_exporter": "python",
   "pygments_lexer": "ipython3",
   "version": "3.10.0"
  }
 },
 "nbformat": 4,
 "nbformat_minor": 5
}
